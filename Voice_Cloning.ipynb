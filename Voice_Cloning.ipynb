{
  "nbformat": 4,
  "nbformat_minor": 0,
  "metadata": {
    "accelerator": "GPU",
    "colab": {
      "name": "Voice_Cloning.ipynb",
      "provenance": [],
      "collapsed_sections": []
    },
    "kernelspec": {
      "display_name": "Python 3",
      "name": "python3"
    }
  },
  "cells": [
    {
      "cell_type": "markdown",
      "metadata": {
        "id": "6yk3PMfBuZhS"
      },
      "source": [
        "Make sure GPU is enabled\n",
        "Runtime -> Change Runtime Type -> Hardware Accelerator -> GPU"
      ]
    },
    {
      "cell_type": "code",
      "metadata": {
        "colab": {
          "base_uri": "https://localhost:8080/"
        },
        "id": "sHln1J4V3SV2",
        "outputId": "8614b58f-d73b-4528-d748-466efe96ade0"
      },
      "source": [
        "!pip install librosa==0.7.0"
      ],
      "execution_count": null,
      "outputs": [
        {
          "output_type": "stream",
          "text": [
            "Collecting librosa==0.7.0\n",
            "\u001b[?25l  Downloading https://files.pythonhosted.org/packages/ad/6e/0eb0de1c9c4e02df0b40e56f258eb79bd957be79b918511a184268e01720/librosa-0.7.0.tar.gz (1.6MB)\n",
            "\u001b[K     |████████████████████████████████| 1.6MB 6.3MB/s \n",
            "\u001b[?25hRequirement already satisfied: audioread>=2.0.0 in /usr/local/lib/python3.7/dist-packages (from librosa==0.7.0) (2.1.9)\n",
            "Requirement already satisfied: numpy>=1.15.0 in /usr/local/lib/python3.7/dist-packages (from librosa==0.7.0) (1.19.5)\n",
            "Requirement already satisfied: scipy>=1.0.0 in /usr/local/lib/python3.7/dist-packages (from librosa==0.7.0) (1.4.1)\n",
            "Requirement already satisfied: scikit-learn!=0.19.0,>=0.14.0 in /usr/local/lib/python3.7/dist-packages (from librosa==0.7.0) (0.22.2.post1)\n",
            "Requirement already satisfied: joblib>=0.12 in /usr/local/lib/python3.7/dist-packages (from librosa==0.7.0) (1.0.1)\n",
            "Requirement already satisfied: decorator>=3.0.0 in /usr/local/lib/python3.7/dist-packages (from librosa==0.7.0) (4.4.2)\n",
            "Requirement already satisfied: six>=1.3 in /usr/local/lib/python3.7/dist-packages (from librosa==0.7.0) (1.15.0)\n",
            "Requirement already satisfied: resampy>=0.2.0 in /usr/local/lib/python3.7/dist-packages (from librosa==0.7.0) (0.2.2)\n",
            "Requirement already satisfied: numba>=0.38.0 in /usr/local/lib/python3.7/dist-packages (from librosa==0.7.0) (0.51.2)\n",
            "Requirement already satisfied: soundfile>=0.9.0 in /usr/local/lib/python3.7/dist-packages (from librosa==0.7.0) (0.10.3.post1)\n",
            "Requirement already satisfied: setuptools in /usr/local/lib/python3.7/dist-packages (from numba>=0.38.0->librosa==0.7.0) (56.0.0)\n",
            "Requirement already satisfied: llvmlite<0.35,>=0.34.0.dev0 in /usr/local/lib/python3.7/dist-packages (from numba>=0.38.0->librosa==0.7.0) (0.34.0)\n",
            "Requirement already satisfied: cffi>=1.0 in /usr/local/lib/python3.7/dist-packages (from soundfile>=0.9.0->librosa==0.7.0) (1.14.5)\n",
            "Requirement already satisfied: pycparser in /usr/local/lib/python3.7/dist-packages (from cffi>=1.0->soundfile>=0.9.0->librosa==0.7.0) (2.20)\n",
            "Building wheels for collected packages: librosa\n",
            "  Building wheel for librosa (setup.py) ... \u001b[?25l\u001b[?25hdone\n",
            "  Created wheel for librosa: filename=librosa-0.7.0-cp37-none-any.whl size=1598345 sha256=6f2dba42d1fefb3f6dd9aefd8ebcd0ae1177cf8ca1ec4bac0394c0cef83517a0\n",
            "  Stored in directory: /root/.cache/pip/wheels/49/1d/38/c8ad12fcad67569d8e730c3275be5e581bd589558484a0f881\n",
            "Successfully built librosa\n",
            "Installing collected packages: librosa\n",
            "  Found existing installation: librosa 0.8.0\n",
            "    Uninstalling librosa-0.8.0:\n",
            "      Successfully uninstalled librosa-0.8.0\n",
            "Successfully installed librosa-0.7.0\n"
          ],
          "name": "stdout"
        }
      ]
    },
    {
      "cell_type": "code",
      "metadata": {
        "colab": {
          "base_uri": "https://localhost:8080/"
        },
        "id": "JU36jcgP4CKJ",
        "outputId": "38b60e0a-05d8-4e7c-f400-4b3d0fa37f11"
      },
      "source": [
        "pip install numba==0.48"
      ],
      "execution_count": null,
      "outputs": [
        {
          "output_type": "stream",
          "text": [
            "Collecting numba==0.48\n",
            "\u001b[?25l  Downloading https://files.pythonhosted.org/packages/39/dc/5ce4a94d98e8a31cab21b150e23ca2f09a7dd354c06a69f71801ecd890db/numba-0.48.0-1-cp37-cp37m-manylinux2014_x86_64.whl (3.5MB)\n",
            "\u001b[K     |████████████████████████████████| 3.6MB 6.4MB/s \n",
            "\u001b[?25hCollecting llvmlite<0.32.0,>=0.31.0dev0\n",
            "\u001b[?25l  Downloading https://files.pythonhosted.org/packages/a0/10/d02c0ac683fc47ecda3426249509cf771d748b6a2c0e9d5ebbee76a7b80a/llvmlite-0.31.0-cp37-cp37m-manylinux1_x86_64.whl (20.2MB)\n",
            "\u001b[K     |████████████████████████████████| 20.2MB 10.0MB/s \n",
            "\u001b[?25hRequirement already satisfied: setuptools in /usr/local/lib/python3.7/dist-packages (from numba==0.48) (56.0.0)\n",
            "Requirement already satisfied: numpy>=1.15 in /usr/local/lib/python3.7/dist-packages (from numba==0.48) (1.19.5)\n",
            "Installing collected packages: llvmlite, numba\n",
            "  Found existing installation: llvmlite 0.34.0\n",
            "    Uninstalling llvmlite-0.34.0:\n",
            "      Successfully uninstalled llvmlite-0.34.0\n",
            "  Found existing installation: numba 0.51.2\n",
            "    Uninstalling numba-0.51.2:\n",
            "      Successfully uninstalled numba-0.51.2\n",
            "Successfully installed llvmlite-0.31.0 numba-0.48.0\n"
          ],
          "name": "stdout"
        }
      ]
    },
    {
      "cell_type": "code",
      "metadata": {
        "colab": {
          "base_uri": "https://localhost:8080/"
        },
        "id": "RgWqR689nDB_",
        "outputId": "b3ec0f3b-ce65-42e2-9290-365f993eb6b6"
      },
      "source": [
        "!git clone https://github.com/vlomme/Multi-Tacotron-Voice-Cloning.git"
      ],
      "execution_count": null,
      "outputs": [
        {
          "output_type": "stream",
          "text": [
            "Cloning into 'Multi-Tacotron-Voice-Cloning'...\n",
            "remote: Enumerating objects: 238, done.\u001b[K\n",
            "remote: Counting objects: 100% (4/4), done.\u001b[K\n",
            "remote: Compressing objects: 100% (4/4), done.\u001b[K\n",
            "remote: Total 238 (delta 0), reused 0 (delta 0), pack-reused 234\u001b[K\n",
            "Receiving objects: 100% (238/238), 1009.42 KiB | 7.76 MiB/s, done.\n",
            "Resolving deltas: 100% (92/92), done.\n"
          ],
          "name": "stdout"
        }
      ]
    },
    {
      "cell_type": "code",
      "metadata": {
        "colab": {
          "base_uri": "https://localhost:8080/"
        },
        "id": "1YKqSBMhnFfN",
        "outputId": "90725751-4878-40e9-8629-cad04e9425d2"
      },
      "source": [
        "cd Multi-Tacotron-Voice-Cloning/"
      ],
      "execution_count": null,
      "outputs": [
        {
          "output_type": "stream",
          "text": [
            "/content/Multi-Tacotron-Voice-Cloning\n"
          ],
          "name": "stdout"
        }
      ]
    },
    {
      "cell_type": "code",
      "metadata": {
        "colab": {
          "base_uri": "https://localhost:8080/"
        },
        "id": "ZBL_8GBbdiwe",
        "outputId": "63de0189-0903-4e89-84fe-aedb1ac7cd79"
      },
      "source": [
        "!pwd"
      ],
      "execution_count": null,
      "outputs": [
        {
          "output_type": "stream",
          "text": [
            "/content/Multi-Tacotron-Voice-Cloning\n"
          ],
          "name": "stdout"
        }
      ]
    },
    {
      "cell_type": "markdown",
      "metadata": {
        "id": "82yZ9pd_buIU"
      },
      "source": [
        "You should creat new folder 'voices' in the Multi-Tacotron-Voice-Cloning folder"
      ]
    },
    {
      "cell_type": "code",
      "metadata": {
        "colab": {
          "base_uri": "https://localhost:8080/"
        },
        "id": "JlHlyIk9MLtR",
        "outputId": "c4548b42-916b-48b9-9033-cd5b25789628"
      },
      "source": [
        "%tensorflow_version 2.x\n",
        "!pip uninstall -y tensorflow\n",
        "!pip install tensorflow-gpu==1.14.0\n",
        "!pip install -r requirements.txt\n",
        "!pip install SpeechRecognition\n",
        "!pip install pyTelegramBotAPI\n",
        "!apt-get install libportaudio2\n",
        "\n",
        "!gdown https://drive.google.com/uc?id=1aQBmpflbX_ePUdXTSNE4CfEL9hdG2-O8\n",
        "!unzip pretrained.zip"
      ],
      "execution_count": null,
      "outputs": [
        {
          "output_type": "stream",
          "text": [
            "Uninstalling tensorflow-2.4.1:\n",
            "  Successfully uninstalled tensorflow-2.4.1\n",
            "Collecting tensorflow-gpu==1.14.0\n",
            "\u001b[?25l  Downloading https://files.pythonhosted.org/packages/32/67/559ca8408431c37ad3a17e859c8c291ea82f092354074baef482b98ffb7b/tensorflow_gpu-1.14.0-cp37-cp37m-manylinux1_x86_64.whl (377.1MB)\n",
            "\u001b[K     |████████████████████████████████| 377.1MB 44kB/s \n",
            "\u001b[?25hRequirement already satisfied: grpcio>=1.8.6 in /usr/local/lib/python3.7/dist-packages (from tensorflow-gpu==1.14.0) (1.32.0)\n",
            "Collecting tensorflow-estimator<1.15.0rc0,>=1.14.0rc0\n",
            "\u001b[?25l  Downloading https://files.pythonhosted.org/packages/3c/d5/21860a5b11caf0678fbc8319341b0ae21a07156911132e0e71bffed0510d/tensorflow_estimator-1.14.0-py2.py3-none-any.whl (488kB)\n",
            "\u001b[K     |████████████████████████████████| 491kB 38.7MB/s \n",
            "\u001b[?25hRequirement already satisfied: gast>=0.2.0 in /usr/local/lib/python3.7/dist-packages (from tensorflow-gpu==1.14.0) (0.3.3)\n",
            "Requirement already satisfied: protobuf>=3.6.1 in /usr/local/lib/python3.7/dist-packages (from tensorflow-gpu==1.14.0) (3.12.4)\n",
            "Requirement already satisfied: wrapt>=1.11.1 in /usr/local/lib/python3.7/dist-packages (from tensorflow-gpu==1.14.0) (1.12.1)\n",
            "Collecting tensorboard<1.15.0,>=1.14.0\n",
            "\u001b[?25l  Downloading https://files.pythonhosted.org/packages/91/2d/2ed263449a078cd9c8a9ba50ebd50123adf1f8cfbea1492f9084169b89d9/tensorboard-1.14.0-py3-none-any.whl (3.1MB)\n",
            "\u001b[K     |████████████████████████████████| 3.2MB 30.8MB/s \n",
            "\u001b[?25hRequirement already satisfied: keras-preprocessing>=1.0.5 in /usr/local/lib/python3.7/dist-packages (from tensorflow-gpu==1.14.0) (1.1.2)\n",
            "Requirement already satisfied: six>=1.10.0 in /usr/local/lib/python3.7/dist-packages (from tensorflow-gpu==1.14.0) (1.15.0)\n",
            "Requirement already satisfied: wheel>=0.26 in /usr/local/lib/python3.7/dist-packages (from tensorflow-gpu==1.14.0) (0.36.2)\n",
            "Requirement already satisfied: astor>=0.6.0 in /usr/local/lib/python3.7/dist-packages (from tensorflow-gpu==1.14.0) (0.8.1)\n",
            "Collecting keras-applications>=1.0.6\n",
            "\u001b[?25l  Downloading https://files.pythonhosted.org/packages/71/e3/19762fdfc62877ae9102edf6342d71b28fbfd9dea3d2f96a882ce099b03f/Keras_Applications-1.0.8-py3-none-any.whl (50kB)\n",
            "\u001b[K     |████████████████████████████████| 51kB 6.4MB/s \n",
            "\u001b[?25hRequirement already satisfied: absl-py>=0.7.0 in /usr/local/lib/python3.7/dist-packages (from tensorflow-gpu==1.14.0) (0.12.0)\n",
            "Requirement already satisfied: google-pasta>=0.1.6 in /usr/local/lib/python3.7/dist-packages (from tensorflow-gpu==1.14.0) (0.2.0)\n",
            "Requirement already satisfied: termcolor>=1.1.0 in /usr/local/lib/python3.7/dist-packages (from tensorflow-gpu==1.14.0) (1.1.0)\n",
            "Requirement already satisfied: numpy<2.0,>=1.14.5 in /usr/local/lib/python3.7/dist-packages (from tensorflow-gpu==1.14.0) (1.19.5)\n",
            "Requirement already satisfied: setuptools in /usr/local/lib/python3.7/dist-packages (from protobuf>=3.6.1->tensorflow-gpu==1.14.0) (56.0.0)\n",
            "Requirement already satisfied: werkzeug>=0.11.15 in /usr/local/lib/python3.7/dist-packages (from tensorboard<1.15.0,>=1.14.0->tensorflow-gpu==1.14.0) (1.0.1)\n",
            "Requirement already satisfied: markdown>=2.6.8 in /usr/local/lib/python3.7/dist-packages (from tensorboard<1.15.0,>=1.14.0->tensorflow-gpu==1.14.0) (3.3.4)\n",
            "Requirement already satisfied: h5py in /usr/local/lib/python3.7/dist-packages (from keras-applications>=1.0.6->tensorflow-gpu==1.14.0) (2.10.0)\n",
            "Requirement already satisfied: importlib-metadata; python_version < \"3.8\" in /usr/local/lib/python3.7/dist-packages (from markdown>=2.6.8->tensorboard<1.15.0,>=1.14.0->tensorflow-gpu==1.14.0) (3.10.1)\n",
            "Requirement already satisfied: zipp>=0.5 in /usr/local/lib/python3.7/dist-packages (from importlib-metadata; python_version < \"3.8\"->markdown>=2.6.8->tensorboard<1.15.0,>=1.14.0->tensorflow-gpu==1.14.0) (3.4.1)\n",
            "Requirement already satisfied: typing-extensions>=3.6.4; python_version < \"3.8\" in /usr/local/lib/python3.7/dist-packages (from importlib-metadata; python_version < \"3.8\"->markdown>=2.6.8->tensorboard<1.15.0,>=1.14.0->tensorflow-gpu==1.14.0) (3.7.4.3)\n",
            "Installing collected packages: tensorflow-estimator, tensorboard, keras-applications, tensorflow-gpu\n",
            "  Found existing installation: tensorflow-estimator 2.4.0\n",
            "    Uninstalling tensorflow-estimator-2.4.0:\n",
            "      Successfully uninstalled tensorflow-estimator-2.4.0\n",
            "  Found existing installation: tensorboard 2.4.1\n",
            "    Uninstalling tensorboard-2.4.1:\n",
            "      Successfully uninstalled tensorboard-2.4.1\n",
            "Successfully installed keras-applications-1.0.8 tensorboard-1.14.0 tensorflow-estimator-1.14.0 tensorflow-gpu-1.14.0\n",
            "Requirement already satisfied: tensorflow-gpu<=1.14.0 in /usr/local/lib/python3.7/dist-packages (from -r requirements.txt (line 1)) (1.14.0)\n",
            "Collecting umap-learn\n",
            "\u001b[?25l  Downloading https://files.pythonhosted.org/packages/75/69/85e7f950bb75792ad5d666d86c5f3e62eedbb942848e7e3126513af9999c/umap-learn-0.5.1.tar.gz (80kB)\n",
            "\u001b[K     |████████████████████████████████| 81kB 4.1MB/s \n",
            "\u001b[?25hCollecting visdom\n",
            "\u001b[?25l  Downloading https://files.pythonhosted.org/packages/c9/75/e078f5a2e1df7e0d3044749089fc2823e62d029cc027ed8ae5d71fafcbdc/visdom-0.1.8.9.tar.gz (676kB)\n",
            "\u001b[K     |████████████████████████████████| 686kB 8.9MB/s \n",
            "\u001b[?25hCollecting webrtcvad\n",
            "\u001b[?25l  Downloading https://files.pythonhosted.org/packages/89/34/e2de2d97f3288512b9ea56f92e7452f8207eb5a0096500badf9dfd48f5e6/webrtcvad-2.0.10.tar.gz (66kB)\n",
            "\u001b[K     |████████████████████████████████| 71kB 5.7MB/s \n",
            "\u001b[?25hRequirement already satisfied: librosa>=0.5.1 in /usr/local/lib/python3.7/dist-packages (from -r requirements.txt (line 5)) (0.7.0)\n",
            "Requirement already satisfied: matplotlib>=2.0.2 in /usr/local/lib/python3.7/dist-packages (from -r requirements.txt (line 6)) (3.2.2)\n",
            "Requirement already satisfied: numpy>=1.14.0 in /usr/local/lib/python3.7/dist-packages (from -r requirements.txt (line 7)) (1.19.5)\n",
            "Requirement already satisfied: scipy>=1.0.0 in /usr/local/lib/python3.7/dist-packages (from -r requirements.txt (line 8)) (1.4.1)\n",
            "Requirement already satisfied: tqdm in /usr/local/lib/python3.7/dist-packages (from -r requirements.txt (line 9)) (4.41.1)\n",
            "Collecting sounddevice\n",
            "  Downloading https://files.pythonhosted.org/packages/3d/e9/cf30f70b81c1a7fa97598d2e89fddb16ab798ca6d64182aa8cd2d66794a4/sounddevice-0.4.1-py3-none-any.whl\n",
            "Collecting Unidecode\n",
            "\u001b[?25l  Downloading https://files.pythonhosted.org/packages/9e/25/723487ca2a52ebcee88a34d7d1f5a4b80b793f179ee0f62d5371938dfa01/Unidecode-1.2.0-py2.py3-none-any.whl (241kB)\n",
            "\u001b[K     |████████████████████████████████| 245kB 11.2MB/s \n",
            "\u001b[?25hRequirement already satisfied: inflect in /usr/local/lib/python3.7/dist-packages (from -r requirements.txt (line 12)) (2.1.0)\n",
            "Collecting PyQt5\n",
            "\u001b[?25l  Downloading https://files.pythonhosted.org/packages/ed/62/cd9f10702c75b242f82da858668fba0cda04cda92133244d3d1555e530b4/PyQt5-5.15.4-cp36.cp37.cp38.cp39-abi3-manylinux2014_x86_64.whl (8.3MB)\n",
            "\u001b[K     |████████████████████████████████| 8.3MB 11.9MB/s \n",
            "\u001b[?25hRequirement already satisfied: multiprocess in /usr/local/lib/python3.7/dist-packages (from -r requirements.txt (line 14)) (0.70.11.1)\n",
            "Requirement already satisfied: numba in /usr/local/lib/python3.7/dist-packages (from -r requirements.txt (line 15)) (0.48.0)\n",
            "Collecting distance\n",
            "\u001b[?25l  Downloading https://files.pythonhosted.org/packages/5c/1a/883e47df323437aefa0d0a92ccfb38895d9416bd0b56262c2e46a47767b8/Distance-0.1.3.tar.gz (180kB)\n",
            "\u001b[K     |████████████████████████████████| 184kB 39.1MB/s \n",
            "\u001b[?25hRequirement already satisfied: tensorflow-estimator<1.15.0rc0,>=1.14.0rc0 in /usr/local/lib/python3.7/dist-packages (from tensorflow-gpu<=1.14.0->-r requirements.txt (line 1)) (1.14.0)\n",
            "Requirement already satisfied: keras-applications>=1.0.6 in /usr/local/lib/python3.7/dist-packages (from tensorflow-gpu<=1.14.0->-r requirements.txt (line 1)) (1.0.8)\n",
            "Requirement already satisfied: protobuf>=3.6.1 in /usr/local/lib/python3.7/dist-packages (from tensorflow-gpu<=1.14.0->-r requirements.txt (line 1)) (3.12.4)\n",
            "Requirement already satisfied: six>=1.10.0 in /usr/local/lib/python3.7/dist-packages (from tensorflow-gpu<=1.14.0->-r requirements.txt (line 1)) (1.15.0)\n",
            "Requirement already satisfied: termcolor>=1.1.0 in /usr/local/lib/python3.7/dist-packages (from tensorflow-gpu<=1.14.0->-r requirements.txt (line 1)) (1.1.0)\n",
            "Requirement already satisfied: wheel>=0.26 in /usr/local/lib/python3.7/dist-packages (from tensorflow-gpu<=1.14.0->-r requirements.txt (line 1)) (0.36.2)\n",
            "Requirement already satisfied: absl-py>=0.7.0 in /usr/local/lib/python3.7/dist-packages (from tensorflow-gpu<=1.14.0->-r requirements.txt (line 1)) (0.12.0)\n",
            "Requirement already satisfied: keras-preprocessing>=1.0.5 in /usr/local/lib/python3.7/dist-packages (from tensorflow-gpu<=1.14.0->-r requirements.txt (line 1)) (1.1.2)\n",
            "Requirement already satisfied: google-pasta>=0.1.6 in /usr/local/lib/python3.7/dist-packages (from tensorflow-gpu<=1.14.0->-r requirements.txt (line 1)) (0.2.0)\n",
            "Requirement already satisfied: wrapt>=1.11.1 in /usr/local/lib/python3.7/dist-packages (from tensorflow-gpu<=1.14.0->-r requirements.txt (line 1)) (1.12.1)\n",
            "Requirement already satisfied: grpcio>=1.8.6 in /usr/local/lib/python3.7/dist-packages (from tensorflow-gpu<=1.14.0->-r requirements.txt (line 1)) (1.32.0)\n",
            "Requirement already satisfied: astor>=0.6.0 in /usr/local/lib/python3.7/dist-packages (from tensorflow-gpu<=1.14.0->-r requirements.txt (line 1)) (0.8.1)\n",
            "Requirement already satisfied: gast>=0.2.0 in /usr/local/lib/python3.7/dist-packages (from tensorflow-gpu<=1.14.0->-r requirements.txt (line 1)) (0.3.3)\n",
            "Requirement already satisfied: tensorboard<1.15.0,>=1.14.0 in /usr/local/lib/python3.7/dist-packages (from tensorflow-gpu<=1.14.0->-r requirements.txt (line 1)) (1.14.0)\n",
            "Requirement already satisfied: scikit-learn>=0.22 in /usr/local/lib/python3.7/dist-packages (from umap-learn->-r requirements.txt (line 2)) (0.22.2.post1)\n",
            "Collecting pynndescent>=0.5\n",
            "\u001b[?25l  Downloading https://files.pythonhosted.org/packages/af/65/8189298dd3a05bbad716ee8e249764ff8800e365d8dc652ad2192ca01b4a/pynndescent-0.5.2.tar.gz (1.1MB)\n",
            "\u001b[K     |████████████████████████████████| 1.2MB 37.0MB/s \n",
            "\u001b[?25hRequirement already satisfied: requests in /usr/local/lib/python3.7/dist-packages (from visdom->-r requirements.txt (line 3)) (2.23.0)\n",
            "Requirement already satisfied: tornado in /usr/local/lib/python3.7/dist-packages (from visdom->-r requirements.txt (line 3)) (5.1.1)\n",
            "Requirement already satisfied: pyzmq in /usr/local/lib/python3.7/dist-packages (from visdom->-r requirements.txt (line 3)) (22.0.3)\n",
            "Collecting jsonpatch\n",
            "  Downloading https://files.pythonhosted.org/packages/a3/55/f7c93bae36d869292aedfbcbae8b091386194874f16390d680136edd2b28/jsonpatch-1.32-py2.py3-none-any.whl\n",
            "Collecting torchfile\n",
            "  Downloading https://files.pythonhosted.org/packages/91/af/5b305f86f2d218091af657ddb53f984ecbd9518ca9fe8ef4103a007252c9/torchfile-0.1.0.tar.gz\n",
            "Collecting websocket-client\n",
            "\u001b[?25l  Downloading https://files.pythonhosted.org/packages/f7/0c/d52a2a63512a613817846d430d16a8fbe5ea56dd889e89c68facf6b91cb6/websocket_client-0.59.0-py2.py3-none-any.whl (67kB)\n",
            "\u001b[K     |████████████████████████████████| 71kB 8.3MB/s \n",
            "\u001b[?25hRequirement already satisfied: pillow in /usr/local/lib/python3.7/dist-packages (from visdom->-r requirements.txt (line 3)) (7.1.2)\n",
            "Requirement already satisfied: joblib>=0.12 in /usr/local/lib/python3.7/dist-packages (from librosa>=0.5.1->-r requirements.txt (line 5)) (1.0.1)\n",
            "Requirement already satisfied: decorator>=3.0.0 in /usr/local/lib/python3.7/dist-packages (from librosa>=0.5.1->-r requirements.txt (line 5)) (4.4.2)\n",
            "Requirement already satisfied: resampy>=0.2.0 in /usr/local/lib/python3.7/dist-packages (from librosa>=0.5.1->-r requirements.txt (line 5)) (0.2.2)\n",
            "Requirement already satisfied: audioread>=2.0.0 in /usr/local/lib/python3.7/dist-packages (from librosa>=0.5.1->-r requirements.txt (line 5)) (2.1.9)\n",
            "Requirement already satisfied: soundfile>=0.9.0 in /usr/local/lib/python3.7/dist-packages (from librosa>=0.5.1->-r requirements.txt (line 5)) (0.10.3.post1)\n",
            "Requirement already satisfied: python-dateutil>=2.1 in /usr/local/lib/python3.7/dist-packages (from matplotlib>=2.0.2->-r requirements.txt (line 6)) (2.8.1)\n",
            "Requirement already satisfied: pyparsing!=2.0.4,!=2.1.2,!=2.1.6,>=2.0.1 in /usr/local/lib/python3.7/dist-packages (from matplotlib>=2.0.2->-r requirements.txt (line 6)) (2.4.7)\n",
            "Requirement already satisfied: kiwisolver>=1.0.1 in /usr/local/lib/python3.7/dist-packages (from matplotlib>=2.0.2->-r requirements.txt (line 6)) (1.3.1)\n",
            "Requirement already satisfied: cycler>=0.10 in /usr/local/lib/python3.7/dist-packages (from matplotlib>=2.0.2->-r requirements.txt (line 6)) (0.10.0)\n",
            "Requirement already satisfied: CFFI>=1.0 in /usr/local/lib/python3.7/dist-packages (from sounddevice->-r requirements.txt (line 10)) (1.14.5)\n",
            "Collecting PyQt5-Qt5>=5.15\n",
            "\u001b[?25l  Downloading https://files.pythonhosted.org/packages/83/d4/241a6a518d0bcf0a9fcdcbad5edfed18d43e884317eab8d5230a2b27e206/PyQt5_Qt5-5.15.2-py3-none-manylinux2014_x86_64.whl (59.9MB)\n",
            "\u001b[K     |████████████████████████████████| 59.9MB 119kB/s \n",
            "\u001b[?25hCollecting PyQt5-sip<13,>=12.8\n",
            "\u001b[?25l  Downloading https://files.pythonhosted.org/packages/31/24/f887203677955ba4d5d4efe9176ac7ed2bf84efce8c243ab91e63183ad9e/PyQt5_sip-12.8.1-cp37-cp37m-manylinux1_x86_64.whl (283kB)\n",
            "\u001b[K     |████████████████████████████████| 286kB 38.6MB/s \n",
            "\u001b[?25hRequirement already satisfied: dill>=0.3.3 in /usr/local/lib/python3.7/dist-packages (from multiprocess->-r requirements.txt (line 14)) (0.3.3)\n",
            "Requirement already satisfied: llvmlite<0.32.0,>=0.31.0dev0 in /usr/local/lib/python3.7/dist-packages (from numba->-r requirements.txt (line 15)) (0.31.0)\n",
            "Requirement already satisfied: setuptools in /usr/local/lib/python3.7/dist-packages (from numba->-r requirements.txt (line 15)) (56.0.0)\n",
            "Requirement already satisfied: h5py in /usr/local/lib/python3.7/dist-packages (from keras-applications>=1.0.6->tensorflow-gpu<=1.14.0->-r requirements.txt (line 1)) (2.10.0)\n",
            "Requirement already satisfied: werkzeug>=0.11.15 in /usr/local/lib/python3.7/dist-packages (from tensorboard<1.15.0,>=1.14.0->tensorflow-gpu<=1.14.0->-r requirements.txt (line 1)) (1.0.1)\n",
            "Requirement already satisfied: markdown>=2.6.8 in /usr/local/lib/python3.7/dist-packages (from tensorboard<1.15.0,>=1.14.0->tensorflow-gpu<=1.14.0->-r requirements.txt (line 1)) (3.3.4)\n",
            "Requirement already satisfied: idna<3,>=2.5 in /usr/local/lib/python3.7/dist-packages (from requests->visdom->-r requirements.txt (line 3)) (2.10)\n",
            "Requirement already satisfied: certifi>=2017.4.17 in /usr/local/lib/python3.7/dist-packages (from requests->visdom->-r requirements.txt (line 3)) (2020.12.5)\n",
            "Requirement already satisfied: urllib3!=1.25.0,!=1.25.1,<1.26,>=1.21.1 in /usr/local/lib/python3.7/dist-packages (from requests->visdom->-r requirements.txt (line 3)) (1.24.3)\n",
            "Requirement already satisfied: chardet<4,>=3.0.2 in /usr/local/lib/python3.7/dist-packages (from requests->visdom->-r requirements.txt (line 3)) (3.0.4)\n",
            "Collecting jsonpointer>=1.9\n",
            "  Downloading https://files.pythonhosted.org/packages/23/52/05f67532aa922e494c351344e0d9624a01f74f5dd8402fe0d1b563a6e6fc/jsonpointer-2.1-py2.py3-none-any.whl\n",
            "Requirement already satisfied: pycparser in /usr/local/lib/python3.7/dist-packages (from CFFI>=1.0->sounddevice->-r requirements.txt (line 10)) (2.20)\n",
            "Requirement already satisfied: importlib-metadata; python_version < \"3.8\" in /usr/local/lib/python3.7/dist-packages (from markdown>=2.6.8->tensorboard<1.15.0,>=1.14.0->tensorflow-gpu<=1.14.0->-r requirements.txt (line 1)) (3.10.1)\n",
            "Requirement already satisfied: zipp>=0.5 in /usr/local/lib/python3.7/dist-packages (from importlib-metadata; python_version < \"3.8\"->markdown>=2.6.8->tensorboard<1.15.0,>=1.14.0->tensorflow-gpu<=1.14.0->-r requirements.txt (line 1)) (3.4.1)\n",
            "Requirement already satisfied: typing-extensions>=3.6.4; python_version < \"3.8\" in /usr/local/lib/python3.7/dist-packages (from importlib-metadata; python_version < \"3.8\"->markdown>=2.6.8->tensorboard<1.15.0,>=1.14.0->tensorflow-gpu<=1.14.0->-r requirements.txt (line 1)) (3.7.4.3)\n",
            "Building wheels for collected packages: umap-learn, visdom, webrtcvad, distance, pynndescent, torchfile\n",
            "  Building wheel for umap-learn (setup.py) ... \u001b[?25l\u001b[?25hdone\n",
            "  Created wheel for umap-learn: filename=umap_learn-0.5.1-cp37-none-any.whl size=76569 sha256=19ac7fd0fa8f062090f0d06deb37f753de57d162ceb03b0f55266c918cb43a2d\n",
            "  Stored in directory: /root/.cache/pip/wheels/ad/df/d5/a3691296ff779f25cd1cf415a3af954b987fb53111e3392cf4\n",
            "  Building wheel for visdom (setup.py) ... \u001b[?25l\u001b[?25hdone\n",
            "  Created wheel for visdom: filename=visdom-0.1.8.9-cp37-none-any.whl size=655251 sha256=834138d22ce21a8337104373622c27b1be7e58a8b20967d1b45e63f1935fe0fc\n",
            "  Stored in directory: /root/.cache/pip/wheels/70/19/a7/6d589ed967f4dfefd33bc166d081257bd4ed0cb618dccfd62a\n",
            "  Building wheel for webrtcvad (setup.py) ... \u001b[?25l\u001b[?25hdone\n",
            "  Created wheel for webrtcvad: filename=webrtcvad-2.0.10-cp37-cp37m-linux_x86_64.whl size=72363 sha256=9e94ca9c187e702766c6ce87037ddf1a3f74971927077763e9877616f37aa08f\n",
            "  Stored in directory: /root/.cache/pip/wheels/44/2a/18/bd1aec41cac7c3051fe95d92a6ed446122ea31dc713c432fa1\n",
            "  Building wheel for distance (setup.py) ... \u001b[?25l\u001b[?25hdone\n",
            "  Created wheel for distance: filename=Distance-0.1.3-cp37-none-any.whl size=16261 sha256=2d686ed059f7659976909062a3f1290c3346a6ebd7659369781e872eda4dd141\n",
            "  Stored in directory: /root/.cache/pip/wheels/d5/aa/e1/dbba9e7b6d397d645d0f12db1c66dbae9c5442b39b001db18e\n",
            "  Building wheel for pynndescent (setup.py) ... \u001b[?25l\u001b[?25hdone\n",
            "  Created wheel for pynndescent: filename=pynndescent-0.5.2-cp37-none-any.whl size=51351 sha256=86a8185c2ca3c3f62dd77e99195fea2c065b2ba91a95fe2790321016ff67f996\n",
            "  Stored in directory: /root/.cache/pip/wheels/ba/52/4e/4c28d04d144a28f89e2575fb63628df6e6d49b56c5ddd0c74e\n",
            "  Building wheel for torchfile (setup.py) ... \u001b[?25l\u001b[?25hdone\n",
            "  Created wheel for torchfile: filename=torchfile-0.1.0-cp37-none-any.whl size=5713 sha256=1a69b2df4400f7a6318cddb81e7cfecc2b6aeea58ff16346e07aa82778432b68\n",
            "  Stored in directory: /root/.cache/pip/wheels/b1/c3/d6/9a1cc8f3a99a0fc1124cae20153f36af59a6e683daca0a0814\n",
            "Successfully built umap-learn visdom webrtcvad distance pynndescent torchfile\n",
            "\u001b[31mERROR: pynndescent 0.5.2 has requirement numba>=0.51.2, but you'll have numba 0.48.0 which is incompatible.\u001b[0m\n",
            "\u001b[31mERROR: umap-learn 0.5.1 has requirement numba>=0.49, but you'll have numba 0.48.0 which is incompatible.\u001b[0m\n",
            "Installing collected packages: pynndescent, umap-learn, jsonpointer, jsonpatch, torchfile, websocket-client, visdom, webrtcvad, sounddevice, Unidecode, PyQt5-Qt5, PyQt5-sip, PyQt5, distance\n",
            "Successfully installed PyQt5-5.15.4 PyQt5-Qt5-5.15.2 PyQt5-sip-12.8.1 Unidecode-1.2.0 distance-0.1.3 jsonpatch-1.32 jsonpointer-2.1 pynndescent-0.5.2 sounddevice-0.4.1 torchfile-0.1.0 umap-learn-0.5.1 visdom-0.1.8.9 webrtcvad-2.0.10 websocket-client-0.59.0\n",
            "Collecting SpeechRecognition\n",
            "\u001b[?25l  Downloading https://files.pythonhosted.org/packages/26/e1/7f5678cd94ec1234269d23756dbdaa4c8cfaed973412f88ae8adf7893a50/SpeechRecognition-3.8.1-py2.py3-none-any.whl (32.8MB)\n",
            "\u001b[K     |████████████████████████████████| 32.8MB 71kB/s \n",
            "\u001b[?25hInstalling collected packages: SpeechRecognition\n",
            "Successfully installed SpeechRecognition-3.8.1\n",
            "Collecting pyTelegramBotAPI\n",
            "\u001b[?25l  Downloading https://files.pythonhosted.org/packages/a8/71/4150c99fd31e3649b4c98594679de5bc4e8daea45be5203491cbb73fc485/pyTelegramBotAPI-3.7.7.tar.gz (83kB)\n",
            "\u001b[K     |████████████████████████████████| 92kB 4.3MB/s \n",
            "\u001b[?25hRequirement already satisfied: requests in /usr/local/lib/python3.7/dist-packages (from pyTelegramBotAPI) (2.23.0)\n",
            "Requirement already satisfied: idna<3,>=2.5 in /usr/local/lib/python3.7/dist-packages (from requests->pyTelegramBotAPI) (2.10)\n",
            "Requirement already satisfied: certifi>=2017.4.17 in /usr/local/lib/python3.7/dist-packages (from requests->pyTelegramBotAPI) (2020.12.5)\n",
            "Requirement already satisfied: chardet<4,>=3.0.2 in /usr/local/lib/python3.7/dist-packages (from requests->pyTelegramBotAPI) (3.0.4)\n",
            "Requirement already satisfied: urllib3!=1.25.0,!=1.25.1,<1.26,>=1.21.1 in /usr/local/lib/python3.7/dist-packages (from requests->pyTelegramBotAPI) (1.24.3)\n",
            "Building wheels for collected packages: pyTelegramBotAPI\n",
            "  Building wheel for pyTelegramBotAPI (setup.py) ... \u001b[?25l\u001b[?25hdone\n",
            "  Created wheel for pyTelegramBotAPI: filename=pyTelegramBotAPI-3.7.7-cp37-none-any.whl size=60362 sha256=6535d436ffb50c4fdd4851369b75ce857d72d7aee187495836883f9fb7220e75\n",
            "  Stored in directory: /root/.cache/pip/wheels/c8/4d/74/96a36189c5782d9b269404d40c2972f8751b9c27f03a0bc466\n",
            "Successfully built pyTelegramBotAPI\n",
            "Installing collected packages: pyTelegramBotAPI\n",
            "Successfully installed pyTelegramBotAPI-3.7.7\n",
            "Reading package lists... Done\n",
            "Building dependency tree       \n",
            "Reading state information... Done\n",
            "The following package was automatically installed and is no longer required:\n",
            "  libnvidia-common-460\n",
            "Use 'apt autoremove' to remove it.\n",
            "The following NEW packages will be installed:\n",
            "  libportaudio2\n",
            "0 upgraded, 1 newly installed, 0 to remove and 34 not upgraded.\n",
            "Need to get 64.6 kB of archives.\n",
            "After this operation, 215 kB of additional disk space will be used.\n",
            "Get:1 http://archive.ubuntu.com/ubuntu bionic/universe amd64 libportaudio2 amd64 19.6.0-1 [64.6 kB]\n",
            "Fetched 64.6 kB in 1s (128 kB/s)\n",
            "Selecting previously unselected package libportaudio2:amd64.\n",
            "(Reading database ... 160690 files and directories currently installed.)\n",
            "Preparing to unpack .../libportaudio2_19.6.0-1_amd64.deb ...\n",
            "Unpacking libportaudio2:amd64 (19.6.0-1) ...\n",
            "Setting up libportaudio2:amd64 (19.6.0-1) ...\n",
            "Processing triggers for libc-bin (2.27-3ubuntu1.2) ...\n",
            "/sbin/ldconfig.real: /usr/local/lib/python3.7/dist-packages/ideep4py/lib/libmkldnn.so.0 is not a symbolic link\n",
            "\n",
            "Downloading...\n",
            "From: https://drive.google.com/uc?id=1aQBmpflbX_ePUdXTSNE4CfEL9hdG2-O8\n",
            "To: /content/Multi-Tacotron-Voice-Cloning/pretrained.zip\n",
            "398MB [00:02, 151MB/s]\n",
            "Archive:  pretrained.zip\n",
            "   creating: encoder/saved_models/\n",
            "  inflating: encoder/saved_models/pretrained.pt  \n",
            "   creating: synthesizer/saved_models/\n",
            "   creating: synthesizer/saved_models/logs-pretrained/\n",
            "   creating: synthesizer/saved_models/logs-pretrained/taco_pretrained/\n",
            "   creating: vocoder/saved_models/\n",
            "   creating: vocoder/saved_models/pretrained/\n",
            "  inflating: vocoder/saved_models/pretrained/pretrained.pt  \n",
            "   creating: g2p/log/\n",
            "  inflating: g2p/log/checkpoint      \n",
            "  inflating: synthesizer/saved_models/logs-pretrained/taco_pretrained/checkpoint  \n",
            "  inflating: synthesizer/saved_models/logs-pretrained/taco_pretrained/tacotron_model.ckpt-348000.data-00000-of-00001  \n",
            "  inflating: synthesizer/saved_models/logs-pretrained/taco_pretrained/tacotron_model.ckpt-348000.index  \n",
            "  inflating: synthesizer/saved_models/logs-pretrained/taco_pretrained/tacotron_model.ckpt-348000.meta  \n",
            "  inflating: g2p/log/my_model_loss_0.04_per_0.03-171900.data-00000-of-00001  \n",
            "  inflating: g2p/log/my_model_loss_0.04_per_0.03-171900.index  \n",
            "  inflating: g2p/log/my_model_loss_0.04_per_0.03-171900.meta  \n"
          ],
          "name": "stdout"
        }
      ]
    },
    {
      "cell_type": "code",
      "metadata": {
        "colab": {
          "base_uri": "https://localhost:8080/"
        },
        "id": "Qv2jzt-LotcP",
        "outputId": "35b1fec7-b45c-4253-c92d-54fe640abdc5"
      },
      "source": [
        "from synthesizer.inference import Synthesizer\n",
        "from encoder import inference as inference_encoder\n",
        "from vocoder import inference as inference_vocoder\n",
        "from g2p.train import g2p"
      ],
      "execution_count": null,
      "outputs": [
        {
          "output_type": "stream",
          "text": [
            "/usr/local/lib/python3.7/dist-packages/tensorflow/python/framework/dtypes.py:516: FutureWarning: Passing (type, 1) or '1type' as a synonym of type is deprecated; in a future version of numpy, it will be understood as (type, (1,)) / '(1,)type'.\n",
            "  _np_qint8 = np.dtype([(\"qint8\", np.int8, 1)])\n",
            "/usr/local/lib/python3.7/dist-packages/tensorflow/python/framework/dtypes.py:517: FutureWarning: Passing (type, 1) or '1type' as a synonym of type is deprecated; in a future version of numpy, it will be understood as (type, (1,)) / '(1,)type'.\n",
            "  _np_quint8 = np.dtype([(\"quint8\", np.uint8, 1)])\n",
            "/usr/local/lib/python3.7/dist-packages/tensorflow/python/framework/dtypes.py:518: FutureWarning: Passing (type, 1) or '1type' as a synonym of type is deprecated; in a future version of numpy, it will be understood as (type, (1,)) / '(1,)type'.\n",
            "  _np_qint16 = np.dtype([(\"qint16\", np.int16, 1)])\n",
            "/usr/local/lib/python3.7/dist-packages/tensorflow/python/framework/dtypes.py:519: FutureWarning: Passing (type, 1) or '1type' as a synonym of type is deprecated; in a future version of numpy, it will be understood as (type, (1,)) / '(1,)type'.\n",
            "  _np_quint16 = np.dtype([(\"quint16\", np.uint16, 1)])\n",
            "/usr/local/lib/python3.7/dist-packages/tensorflow/python/framework/dtypes.py:520: FutureWarning: Passing (type, 1) or '1type' as a synonym of type is deprecated; in a future version of numpy, it will be understood as (type, (1,)) / '(1,)type'.\n",
            "  _np_qint32 = np.dtype([(\"qint32\", np.int32, 1)])\n",
            "/usr/local/lib/python3.7/dist-packages/tensorflow/python/framework/dtypes.py:525: FutureWarning: Passing (type, 1) or '1type' as a synonym of type is deprecated; in a future version of numpy, it will be understood as (type, (1,)) / '(1,)type'.\n",
            "  np_resource = np.dtype([(\"resource\", np.ubyte, 1)])\n",
            "/usr/local/lib/python3.7/dist-packages/tensorboard/compat/tensorflow_stub/dtypes.py:541: FutureWarning: Passing (type, 1) or '1type' as a synonym of type is deprecated; in a future version of numpy, it will be understood as (type, (1,)) / '(1,)type'.\n",
            "  _np_qint8 = np.dtype([(\"qint8\", np.int8, 1)])\n",
            "/usr/local/lib/python3.7/dist-packages/tensorboard/compat/tensorflow_stub/dtypes.py:542: FutureWarning: Passing (type, 1) or '1type' as a synonym of type is deprecated; in a future version of numpy, it will be understood as (type, (1,)) / '(1,)type'.\n",
            "  _np_quint8 = np.dtype([(\"quint8\", np.uint8, 1)])\n",
            "/usr/local/lib/python3.7/dist-packages/tensorboard/compat/tensorflow_stub/dtypes.py:543: FutureWarning: Passing (type, 1) or '1type' as a synonym of type is deprecated; in a future version of numpy, it will be understood as (type, (1,)) / '(1,)type'.\n",
            "  _np_qint16 = np.dtype([(\"qint16\", np.int16, 1)])\n",
            "/usr/local/lib/python3.7/dist-packages/tensorboard/compat/tensorflow_stub/dtypes.py:544: FutureWarning: Passing (type, 1) or '1type' as a synonym of type is deprecated; in a future version of numpy, it will be understood as (type, (1,)) / '(1,)type'.\n",
            "  _np_quint16 = np.dtype([(\"quint16\", np.uint16, 1)])\n",
            "/usr/local/lib/python3.7/dist-packages/tensorboard/compat/tensorflow_stub/dtypes.py:545: FutureWarning: Passing (type, 1) or '1type' as a synonym of type is deprecated; in a future version of numpy, it will be understood as (type, (1,)) / '(1,)type'.\n",
            "  _np_qint32 = np.dtype([(\"qint32\", np.int32, 1)])\n",
            "/usr/local/lib/python3.7/dist-packages/tensorboard/compat/tensorflow_stub/dtypes.py:550: FutureWarning: Passing (type, 1) or '1type' as a synonym of type is deprecated; in a future version of numpy, it will be understood as (type, (1,)) / '(1,)type'.\n",
            "  np_resource = np.dtype([(\"resource\", np.ubyte, 1)])\n"
          ],
          "name": "stderr"
        },
        {
          "output_type": "stream",
          "text": [
            "WARNING:tensorflow:From /content/Multi-Tacotron-Voice-Cloning/synthesizer/models/modules.py:91: The name tf.nn.rnn_cell.RNNCell is deprecated. Please use tf.compat.v1.nn.rnn_cell.RNNCell instead.\n",
            "\n"
          ],
          "name": "stdout"
        }
      ]
    },
    {
      "cell_type": "code",
      "metadata": {
        "id": "pE6btDZWeFV0"
      },
      "source": [
        "from speech_recognition import (Recognizer, AudioFile)\n",
        "from speech_recognition import (UnknownValueError, RequestError)\n",
        "import torch\n",
        "\n",
        "import telebot\n",
        "from telebot import types\n",
        "\n",
        "import requests\n",
        "import time\n",
        "\n",
        "from pathlib import Path\n",
        "import subprocess\n",
        "import sys\n",
        "import os\n",
        "\n",
        "\n",
        "import numpy as np\n",
        "import librosa"
      ],
      "execution_count": null,
      "outputs": []
    },
    {
      "cell_type": "code",
      "metadata": {
        "id": "5vohOoYNNm0M"
      },
      "source": [
        "voices = [name.split('.')[0] for name in os.listdir('voices')]\n",
        "voices.append(\"Записать свой\")"
      ],
      "execution_count": null,
      "outputs": []
    },
    {
      "cell_type": "code",
      "metadata": {
        "id": "0AVd9vLKeKm6"
      },
      "source": [
        "token_bot = \"YOUR TOKEN\"\n",
        "bot = telebot.TeleBot(token_bot)\n",
        "\n",
        "knownUsers = []  # todo: save these in a file,\n",
        "userStep = {}  # so they won't reset every time the bot restarts\n",
        "\n",
        "commands = {  # command description used in the \"help\" command\n",
        "    'chooseVoice'    : \"Выбрать или загрузить голос, который хотите склонировать\",\n",
        "    'reset': \"Вернуться к началу\"\n",
        "}\n",
        "\n",
        "voiceSelect = types.ReplyKeyboardMarkup(one_time_keyboard=True)  # create the image selection keyboard\n",
        "voiceSelect.add(*voices)\n",
        "\n",
        "hideBoard = types.ReplyKeyboardRemove()  # if sent as reply_markup, will hide the keyboard"
      ],
      "execution_count": null,
      "outputs": []
    },
    {
      "cell_type": "code",
      "metadata": {
        "id": "2920fqapzRoz"
      },
      "source": [
        "# error handling if user isn't known yet\n",
        "# (obsolete once known users are saved to file, because all users\n",
        "#   had to use the /start command and are therefore known to the bot)\n",
        "def get_user_step(uid):\n",
        "    if uid in userStep:\n",
        "        return userStep[uid]\n",
        "    else:\n",
        "        knownUsers.append(uid)\n",
        "        userStep[uid] = 0\n",
        "        print(\"New user detected, who hasn't used \\\"/start\\\" yet\")\n",
        "        return 0\n",
        "\n",
        "\n",
        "# only used for console output now\n",
        "def listener(messages):\n",
        "    for m in messages:\n",
        "        if m.chat.id not in knownUsers:\n",
        "            bot.send_message(m.chat.id, \"Hello, stranger!\")\n",
        "        print(\"Got message of type\", m.content_type)\n",
        "        if m.content_type == 'text':\n",
        "            print(str(m.chat.first_name) + \" [\" + str(m.chat.id) + \"]: \" + m.text)\n",
        "\n",
        "        if m.content_type == 'voice':\n",
        "            if userStep[m.chat.id] == 2:\n",
        "                extract_target_voice(m)\n",
        "            elif type(userStep[m.chat.id]) == str:\n",
        "                generate_voice_message(m)\n",
        "\n",
        "bot = telebot.TeleBot(token_bot)\n",
        "bot.set_update_listener(listener)  # register listener\n",
        "\n",
        "\n",
        "# handle the \"/start\" command\n",
        "@bot.message_handler(commands=['start'])\n",
        "def command_start(m):\n",
        "    cid = m.chat.id\n",
        "    if cid not in knownUsers: \n",
        "        if os.path.exists(str(cid)):\n",
        "            clean(cid)\n",
        "        else:\n",
        "            os.mkdir(str(cid))\n",
        "\n",
        "        knownUsers.append(cid) \n",
        "        userStep[cid] = 0  \n",
        "    command_help(m)\n",
        "    \n",
        "@bot.message_handler(commands=['chooseVoice'])\n",
        "def command_choose_voice(m):\n",
        "    cid = m.chat.id\n",
        "    bot.send_message(cid, \"Выберите предзаписанные голос или запишите свой\", reply_markup=voiceSelect)  # show the keyboard\n",
        "    userStep[cid] = 1 \n",
        "\n",
        "@bot.message_handler(commands=['reset'])\n",
        "def command_choose_voice(m):\n",
        "    cid = m.chat.id\n",
        "    bot.send_message(cid, \"Текущий голос сброшен\")  # show the keyboard\n",
        "    userStep[cid] = 0\n",
        "    command_help(m) \n",
        "\n",
        "@bot.message_handler(func=lambda message: get_user_step(message.chat.id) == 1)\n",
        "def msg_voice_select(m):\n",
        "    cid = m.chat.id\n",
        "    text = m.text\n",
        "    if text == 'Записать свой':  \n",
        "        # ран голоса\n",
        "        bot.send_chat_action(cid, \"record_audio\")\n",
        "        userStep[cid] = 2\n",
        "        bot.send_message(cid, \"Запишите голос которым вы хотите озвучить.\")\n",
        "\n",
        "    elif text in voices:\n",
        "        bot.send_chat_action(cid, \"record_audio\")\n",
        "        userStep[cid] = f\"voices/{text}.mp3\"\n",
        "        bot.send_message(cid, \"Запишите голосовое или текст который вы хотите озвучить.\")\n",
        "\n",
        "    else:\n",
        "        bot.send_message(cid, \"Please, use the predefined keyboard!\")\n",
        "        bot.send_message(cid, \"Please try again\")\n",
        "\n",
        "@bot.message_handler(func=lambda message: type(get_user_step(message.chat.id)) == str)\n",
        "def generate_voice_message(m):\n",
        "    cid = m.chat.id\n",
        "    loaded_file = f'{cid}/message_user_{cid}.ogg'\n",
        "\n",
        "    if m.content_type == \"voice\":\n",
        "        file_info = bot.get_file(m.voice.file_id)\n",
        "        downloaded_file = bot.download_file(file_info.file_path)\n",
        "          \n",
        "        with open(f'{cid}/message_user_{cid}.ogg', 'wb') as new_file:\n",
        "            new_file.write(downloaded_file)\n",
        "        \n",
        "        new_file = f'{cid}/message_user_{cid}.wav'\n",
        "        subprocess.run(['ffmpeg', '-i', loaded_file, new_file])\n",
        "\n",
        "        os.remove(loaded_file)\n",
        "        \n",
        "        text = recognize_audio(new_file)\n",
        "\n",
        "    elif m.content_type == \"text\":\n",
        "        new_file = userStep[cid]\n",
        "        text = m.text\n",
        "\n",
        "    bot.send_message(cid, \"Озвучиваем ваше сообщение.\")\n",
        "    audio = generate_audio(new_file, text, loaded_file)\n",
        "    subprocess.run(['ffmpeg', '-i', loaded_file, '-acodec', 'libopus', loaded_file, '-y'])\n",
        "\n",
        "    with open(loaded_file, 'rb') as f:\n",
        "        voice = f.read()\n",
        "  \n",
        "    bot.send_message(cid, text)\n",
        "    bot.send_voice(cid, voice)\n",
        "\n",
        "    clean(cid)\n",
        "  \n",
        "def extract_target_voice(m):\n",
        "\n",
        "    cid = m.chat.id\n",
        "    file_info = bot.get_file(m.voice.file_id)\n",
        "    downloaded_file = bot.download_file(file_info.file_path)\n",
        "        \n",
        "    with open(f'{cid}/message_user_{cid}.ogg', 'wb') as new_file:\n",
        "        new_file.write(downloaded_file)\n",
        "    \n",
        "    loaded_file = f'{cid}/message_user_{cid}.ogg'\n",
        "    new_file = f'voices/message_user_{cid}_target.wav'\n",
        "    subprocess.run(['ffmpeg', '-i', loaded_file, new_file])\n",
        "    os.remove(loaded_file)\n",
        "    userStep[cid] = new_file\n",
        "\n",
        "    bot.send_message(cid, \"Запишите голосовое или текст который вы хотите озвучить.\")\n",
        "  \n",
        "def clean(cid):\n",
        "    for _file in os.listdir(str(cid)):\n",
        "        if _file != \".ipynb_checkpoints\":\n",
        "            os.remove(str(cid) + '/' + _file)\n",
        "\n",
        "def generate_audio(audio_file_path, text, save_path):\n",
        "    audio = vcc.run(audio_file_path, text, save_path=save_path)\n",
        "    return audio\n",
        "  \n",
        "def recognize_audio(audio_file_path):\n",
        "    recognizer = Recognizer()\n",
        "    with AudioFile(audio_file_path) as source:\n",
        "        audio = recognizer.record(source)\n",
        "    text = recognizer.recognize_google(audio, language='RU')\n",
        "    return text"
      ],
      "execution_count": null,
      "outputs": []
    },
    {
      "cell_type": "code",
      "metadata": {
        "id": "Dq85tMJKop5G"
      },
      "source": [
        "import soundfile as sf\n",
        "\n",
        "class VoiceCloningClass:\n",
        "    def __init__(self, enc_model_path, syn_model_path, voc_model_path):\n",
        "        self.device = torch.cuda.current_device()\n",
        "        self.synthesizer = Synthesizer(Path(syn_model_path).joinpath(\"taco_pretrained\"), low_mem=False)\n",
        "        self._load_encoder(enc_model_path)\n",
        "        self._load_vocoder(voc_model_path)\n",
        "\n",
        "    def _load_encoder(self, enc_model_path):\n",
        "        inference_encoder.load_model(Path(enc_model_path))\n",
        "\n",
        "    def _load_vocoder(self, voc_model_path):\n",
        "        inference_vocoder.load_model(Path(voc_model_path))\n",
        "\n",
        "    def process_target_voice(self, source_wav_path):\n",
        "        target_wav, sampling_rate = librosa.load(source_wav_path)\n",
        "        preprocessed_wav = inference_encoder.preprocess_wav(target_wav, sampling_rate)\n",
        "        embed, partial_embeds, _ = inference_encoder.embed_utterance(preprocessed_wav, return_partials=True)\n",
        "        embed /= np.linalg.norm(embed)\n",
        "        return embed\n",
        "\n",
        "    def synthesize_voice(self, text, voice_embed):\n",
        "        texts = g2p([text])\n",
        "        specs = self.synthesizer.synthesize_spectrograms(texts, [voice_embed])\n",
        "        generated_wav = inference_vocoder.infer_waveform(specs[0])\n",
        "        generated_wav = np.pad(generated_wav, (0, self.synthesizer.sample_rate), mode=\"constant\")\n",
        "        return generated_wav\n",
        "\n",
        "    def run(self, source_wav_path, text, save_path=None):\n",
        "        voice_embed = self.process_target_voice(source_wav_path)\n",
        "        generated_wav = self.synthesize_voice(text, voice_embed)\n",
        "        if save_path:\n",
        "            self.save_wav(save_path, generated_wav)\n",
        "        return generated_wav\n",
        "\n",
        "\n",
        "    def save_wav(self, path, wav):\n",
        "      # sf.write(path, wav, self.synthesizer.sample_rate, 'PCM_24')\n",
        "        librosa.output.write_wav(path, wav.astype(np.float32),\n",
        "                                 self.synthesizer.sample_rate)"
      ],
      "execution_count": null,
      "outputs": []
    },
    {
      "cell_type": "code",
      "metadata": {
        "colab": {
          "base_uri": "https://localhost:8080/"
        },
        "id": "gFlbzORTpdRa",
        "outputId": "8db3b6a0-a35f-4d16-e4f9-48c3a6dcda44"
      },
      "source": [
        "ENC_PATH = \"encoder/saved_models/pretrained.pt\"\n",
        "SYNTH_PATH = \"synthesizer/saved_models/logs-pretrained/\"\n",
        "VOC_PATH = \"vocoder/saved_models/pretrained/pretrained.pt\"\n",
        "\n",
        "vcc = VoiceCloningClass(ENC_PATH, SYNTH_PATH, VOC_PATH)"
      ],
      "execution_count": null,
      "outputs": [
        {
          "output_type": "stream",
          "text": [
            "Found synthesizer \"pretrained\" trained to step 348000\n",
            "Loaded encoder \"pretrained.pt\" trained to step 1617001\n",
            "Building Wave-RNN\n",
            "Trainable Parameters: 4.481M\n",
            "Loading model weights at vocoder/saved_models/pretrained/pretrained.pt\n"
          ],
          "name": "stdout"
        }
      ]
    },
    {
      "cell_type": "code",
      "metadata": {
        "colab": {
          "background_save": true,
          "base_uri": "https://localhost:8080/"
        },
        "id": "VuwgOQlPeN8a",
        "outputId": "8260e370-364d-4bb7-e5d7-03cacab10f71"
      },
      "source": [
        "bot.polling()"
      ],
      "execution_count": null,
      "outputs": [
        {
          "output_type": "stream",
          "text": [
            "Got message of type text\n",
            "Eskimo [799213094]: /chooseVoice\n",
            "Got message of type text\n",
            "Eskimo [799213094]: Записать свой\n",
            "Got message of type audio\n"
          ],
          "name": "stdout"
        }
      ]
    }
  ]
}